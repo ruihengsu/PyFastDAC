{
 "cells": [
  {
   "cell_type": "code",
   "execution_count": 1,
   "source": [
    "from ThreadedSerial import ThreadedSerial\r\n",
    "import FastDAC as FD \r\n",
    "\r\n",
    "# nice command to list all the available serial ports\r\n",
    "! python -m serial.tools.list_ports -v"
   ],
   "outputs": [
    {
     "output_type": "stream",
     "name": "stdout",
     "text": [
      "COM1                \n",
      "    desc: Communications Port (COM1)\n",
      "    hwid: ACPI\\PNP0501\\0\n",
      "COM3                \n",
      "    desc: USB Serial Port (COM3)\n",
      "    hwid: USB VID:PID=0403:6014 SER=FT4RD3I0A\n"
     ]
    },
    {
     "output_type": "stream",
     "name": "stderr",
     "text": [
      "2 ports found\n"
     ]
    }
   ],
   "metadata": {}
  },
  {
   "cell_type": "code",
   "execution_count": 4,
   "source": [
    "ser = ThreadedSerial(\"COM3\", baudrate=1750000, timeout = 10)"
   ],
   "outputs": [],
   "metadata": {}
  },
  {
   "cell_type": "code",
   "execution_count": 14,
   "source": [
    "ser.write(b\"*IDN?\\r\")"
   ],
   "outputs": [],
   "metadata": {}
  },
  {
   "cell_type": "code",
   "execution_count": 16,
   "source": [
    "# ser.read(16)\r\n",
    "if not ser.ser.is_open:\r\n",
    "        ser.ser.open()\r\n",
    "ser.ser.readline()"
   ],
   "outputs": [
    {
     "output_type": "execute_result",
     "data": {
      "text/plain": [
       "b''"
      ]
     },
     "metadata": {},
     "execution_count": 16
    }
   ],
   "metadata": {}
  },
  {
   "cell_type": "code",
   "execution_count": null,
   "source": [],
   "outputs": [],
   "metadata": {}
  }
 ],
 "metadata": {
  "interpreter": {
   "hash": "c98883fa41f4ff03897d75d613ea91b0d3d776b990d460e4420f5faced8aea78"
  },
  "kernelspec": {
   "name": "python3",
   "display_name": "Python 3.9.5 64-bit"
  },
  "language_info": {
   "name": "python",
   "version": "3.9.5",
   "mimetype": "text/x-python",
   "codemirror_mode": {
    "name": "ipython",
    "version": 3
   },
   "pygments_lexer": "ipython3",
   "nbconvert_exporter": "python",
   "file_extension": ".py"
  },
  "orig_nbformat": 4
 },
 "nbformat": 4,
 "nbformat_minor": 2
}